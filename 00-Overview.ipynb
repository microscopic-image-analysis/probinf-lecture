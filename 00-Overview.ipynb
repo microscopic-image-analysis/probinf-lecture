{
 "cells": [
  {
   "cell_type": "markdown",
   "metadata": {},
   "source": [
    "# Inference in Probabilistic Models - Sampling Methods\n",
    "\n",
    "## Dates and course organization\n",
    "\n",
    "* Four weeks, two 2-hour lectures / exercises per week\n",
    "\n",
    "* Clash on Wednesday. How about moving second lecture to Thursday or Friday morning?\n",
    "\n",
    "* Timetable\n",
    "\n",
    "| Lecture   | Date         | Weekday | Time          | Topic                             | \n",
    "|:---------:|:------------:|:-------:|---------------|:----------------------------------|\n",
    "| 1         | Nov 22, 2021 | Mon     | 10:15 - 11:45 | Introduction                      |\n",
    "| 2         | Nov 25, 2021 | Thu     | 12:15 - 13:45 | Direct Sampling Methods           |\n",
    "| 3         | Nov 29, 2021 | Mon     | 10:15 - 11:45 | Rejection & Importance Sampling   |\n",
    "| 4         | Dec 02, 2021 | Thu     | 12:15 - 13:45 | Markov chains, MCMC               |\n",
    "| 5         | Dec 06, 2021 | Mon     | 10:15 - 11:45 | The Metropolis-Hastings algorithm |\n",
    "| 6         | Dec 09, 2021 | Thu     | 12:15 - 13:45 | Gibbs sampling                    |\n",
    "| 7         | Dec 13, 2021 | Mon     | 10:15 - 11:45 | Hamiltonian Monte Carlo           |\n",
    "| 8         | Dec 15, 2021 | Thu     | 12:15 - 13:45 | Slice sampling                    |\n",
    "| 9         | Jan 03, 2022 | Mon     | 10:15 - 11:45 | Practical aspects, Diagnostics    |\n",
    "| 10        | Jan 06, 2022 | Thu     | 12:15 - 13:45 | Tempering, AIS, Nested sampling   |"
   ]
  },
  {
   "cell_type": "markdown",
   "metadata": {},
   "source": [
    "# Topics\n",
    "\n",
    "## Lecture 1: Introduction\n",
    "\n",
    "* Motivation\n",
    "* Monte Carlo approximation\n",
    "* Computation of $\\pi$\n",
    "\n",
    "## Lecture 2: Direct Sampling Methods\n",
    "\n",
    "* Can we beat the curse of dimensionality?\n",
    "* Probabilities in high-dimensional spaces\n",
    "* Generation of pseudo-random numbers\n",
    "* Direct sampling by variable transformation methods\n",
    "\n",
    "## Lecture 3: Rejection and Importance Sampling\n",
    "\n",
    "* More direct sampling methods\n",
    "* Rejection sampling\n",
    "* Importance sampling\n",
    "* A comment on Quasi Monte Carlo \n",
    "\n",
    "## Lecture 4: Markov chains\n",
    "\n",
    "* Markov chains\n",
    "* Some mathematical facts about Markov chains\n",
    "* Stationary distributions\n",
    "* Reversible Markov chains\n",
    "\n",
    "## Lecture 5: The Metropolis-Hastings Algorithm\n",
    "\n",
    "* Fundamental theorem of Markov chains\n",
    "* Metropolis-Hastings algorithm\n",
    "* Geometric interpretation of Metropolis-Hastings\n",
    "\n",
    "## Lecture 6: Gibbs sampling\n",
    "\n",
    "* Combining Markov chains\n",
    "* Gibbs sampling\n",
    "* Auxiliary variable methods\n",
    "\n",
    "## Lecture 7: Hamiltonian Monte Carlo\n",
    "\n",
    "* Auxiliary variable methods (Swendsen-Wang)\n",
    "* Hamiltonian dynamics\n",
    "* Sympletic integrators\n",
    "* Hamiltonian Monte Carlo (aka Hybrid Monte Carlo)\n",
    "\n",
    "## Lecture 8: Slice sampling\n",
    "\n",
    "* General slice sampling\n",
    "* Neal's bracketing method\n",
    "\n",
    "## Lecture 9:  Practical Aspects of MCMC\n",
    "\n",
    "* Convergence, diagnostic checks\n",
    "\n",
    "## Lecture 10: Advanced Methods\n",
    "\n",
    "* Annealed Importance Sampling\n",
    "* Nested Sampling\n",
    "* Parallel Tempering / Replica-exchange Monte Carlo\n"
   ]
  },
  {
   "cell_type": "markdown",
   "metadata": {},
   "source": [
    "## Other possible topics\n",
    "\n",
    "* Graphical models\n",
    "* Ising model\n",
    "* Simulator models\n",
    "* Stochastic differential equation & Langevin dynamics\n",
    "* Bridge sampling, thermodynamic integration\n",
    "* Partition function estimation\n",
    "* Intractable models\n",
    "* Exchange algorithm\n",
    "* Adaptive Monte Carlo methods\n",
    "* Wang-Landau\n",
    "* Exact sampling: coupling from the past"
   ]
  }
 ],
 "metadata": {
  "hide_input": false,
  "kernelspec": {
   "display_name": "Python 3",
   "language": "python",
   "name": "python3"
  },
  "language_info": {
   "codemirror_mode": {
    "name": "ipython",
    "version": 3
   },
   "file_extension": ".py",
   "mimetype": "text/x-python",
   "name": "python",
   "nbconvert_exporter": "python",
   "pygments_lexer": "ipython3",
   "version": "3.7.6"
  },
  "latex_envs": {
   "LaTeX_envs_menu_present": true,
   "autoclose": false,
   "autocomplete": true,
   "bibliofile": "biblio.bib",
   "cite_by": "apalike",
   "current_citInitial": 1,
   "eqLabelWithNumbers": true,
   "eqNumInitial": 1,
   "hotkeys": {
    "equation": "Ctrl-E",
    "itemize": "Ctrl-I"
   },
   "labels_anchors": false,
   "latex_user_defs": false,
   "report_style_numbering": false,
   "user_envs_cfg": false
  },
  "nbTranslate": {
   "displayLangs": [
    "*"
   ],
   "hotkey": "alt-t",
   "langInMainMenu": true,
   "sourceLang": "en",
   "targetLang": "fr",
   "useGoogleTranslate": true
  }
 },
 "nbformat": 4,
 "nbformat_minor": 4
}
